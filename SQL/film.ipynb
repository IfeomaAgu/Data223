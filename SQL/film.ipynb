{
    "metadata": {
        "kernelspec": {
            "name": "SQL",
            "display_name": "SQL",
            "language": "sql"
        },
        "language_info": {
            "name": "sql",
            "version": ""
        }
    },
    "nbformat_minor": 2,
    "nbformat": 4,
    "cells": [
        {
            "cell_type": "code",
            "source": [
                "CREATE DATABASE films;"
            ],
            "metadata": {
                "azdata_cell_guid": "aa6125e7-9f58-4791-a198-3ce5bc17e49f",
                "language": "sql"
            },
            "outputs": [
                {
                    "output_type": "display_data",
                    "data": {
                        "text/html": "Commands completed successfully."
                    },
                    "metadata": {}
                },
                {
                    "output_type": "display_data",
                    "data": {
                        "text/html": "Total execution time: 00:00:01.504"
                    },
                    "metadata": {}
                }
            ],
            "execution_count": 1
        },
        {
            "cell_type": "code",
            "source": [
                "USE films;\n",
                "CREATE TABLE film_table (\n",
                "    id  INT IDENTITY(1,1) PRIMARY KEY, \n",
                "    film_name VARCHAR(255) NOT NULL,\n",
                "    film_type VARCHAR(50),\n",
                "    date_of_release DATE,\n",
                "    director VARCHAR(255),\n",
                "    writer VARCHAR(255),\n",
                "    actor VARCHAR(255),\n",
                "    film_language VARCHAR(255),\n",
                "    official_website VARCHAR(255),\n",
                "    plot_summary NVARCHAR(400)\n",
                ")"
            ],
            "metadata": {
                "azdata_cell_guid": "bc8edddc-6a58-49f5-b7b8-e1e41f3140cd",
                "language": "sql"
            },
            "outputs": [
                {
                    "output_type": "display_data",
                    "data": {
                        "text/html": "Commands completed successfully."
                    },
                    "metadata": {}
                },
                {
                    "output_type": "display_data",
                    "data": {
                        "text/html": "Total execution time: 00:00:00.036"
                    },
                    "metadata": {}
                }
            ],
            "execution_count": 5
        },
        {
            "cell_type": "code",
            "source": [
                "USE films;"
            ],
            "metadata": {
                "azdata_cell_guid": "42fb7021-22e0-4ec2-b8c1-8aeb81d83cc3",
                "language": "sql"
            },
            "outputs": [
                {
                    "output_type": "error",
                    "ename": "",
                    "evalue": "Msg 3701, Level 11, State 5, Line 2\nCannot drop the table 'film_table', because it does not exist or you do not have permission.",
                    "traceback": []
                },
                {
                    "output_type": "display_data",
                    "data": {
                        "text/html": "Total execution time: 00:00:00.003"
                    },
                    "metadata": {}
                }
            ],
            "execution_count": 17
        },
        {
            "cell_type": "code",
            "source": [
                "INSERT INTO film_table (id, film_name, film_type, date_of_release, director, writer, actor, film_language, official_website, plot_summary)\n",
                "VALUES\n",
                "( 'Inception', 'Sci-Fi, Action', '16-07-2010', 'Christopher Nolan',  'Christopher Nolan', 'Leonardo DiCaprio, Joseph Gordon-Levitt, Ellen Page', 'English', 'http://inceptionmovie.warnerbros.com/', 'A skilled thief is recruited by a team of specialists to enter the subconscious of a CEO and implant an idea in his mind.'),\n",
                "('The Social Network',  'Drama', '1-10-2010', 'David Fincher', 'Aaron Sorkin', 'Jesse Eisenberg, Andrew Garfield, Justin Timberlake', 'English', ' ', 'PThe story of the founding of Facebook and the lawsuits that followed.'),\n",
                "('Black Swan', 'Drama, Thriller', '3-12-2010', 'Darren Aronofsky', 'Mark Heyman, Andres Heinz', 'Natalie Portman, Mila Kunis, Vincent Cassel', 'English', '  ', 'A ballerina competing for the lead role in a production of \"Swan Lake\" becomes increasingly paranoid and unstable.'),\n",
                "('Toy Story 3', 'Animation, Adventure, Comedy', '18-06-2010 ', 'Lee Unkrich', 'John Lasseter, Andrew Stanton', 'Tom Hanks, Tim Allen, Joan Cusack','English', ' http://disney.go.com/toystory/', 'The toys are mistakenly delivered to a daycare center instead of the attic and must escape before being donated to a new owner.'),\n",
                "('The Avengers', 'Action, Adventure, Sci-Fi ',  '4-05-2012 ', 'Joss Whedon',  'Joss Whedon', 'Robert DowneyJr., Chris Evans, Scarlett Johansson', 'English', 'http://marvel.com/avengers_movie/', \"Earth\\'s mightiest heroes must come together and learn to fight as a team in order to stop the mischievous Loki and his alien army from enslaving humanity.\")\n",
                ";"
            ],
            "metadata": {
                "azdata_cell_guid": "30eb3e0a-c453-4bda-8049-3cf9252a0531",
                "language": "sql",
                "tags": []
            },
            "outputs": [
                {
                    "output_type": "error",
                    "ename": "",
                    "evalue": "Msg 103, Level 15, State 4, Line 7\nThe identifier that starts with 'Earth\\'s mightiest heroes must come together and learn to fight as a team in order to stop the mischievous Loki and his alien ar' is too long. Maximum length is 128.",
                    "traceback": []
                },
                {
                    "output_type": "display_data",
                    "data": {
                        "text/html": "Total execution time: 00:00:00.013"
                    },
                    "metadata": {}
                }
            ],
            "execution_count": 14
        }
    ]
}