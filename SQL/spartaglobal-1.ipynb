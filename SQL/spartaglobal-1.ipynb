{
    "metadata": {
        "kernelspec": {
            "name": "SQL",
            "display_name": "SQL",
            "language": "sql"
        },
        "language_info": {
            "name": "sql",
            "version": ""
        }
    },
    "nbformat_minor": 2,
    "nbformat": 4,
    "cells": [
        {
            "cell_type": "code",
            "source": [
                "CREATE DATABASE SpartaGlobal;"
            ],
            "metadata": {
                "azdata_cell_guid": "eb6bd129-58b4-49b5-94e7-d6957680bd1f",
                "language": "sql"
            },
            "outputs": [
                {
                    "output_type": "display_data",
                    "data": {
                        "text/html": "Commands completed successfully."
                    },
                    "metadata": {}
                },
                {
                    "output_type": "display_data",
                    "data": {
                        "text/html": "Total execution time: 00:00:00.805"
                    },
                    "metadata": {}
                }
            ],
            "execution_count": 1
        },
        {
            "cell_type": "code",
            "source": [
                "USE SpartaGlobal"
            ],
            "metadata": {
                "azdata_cell_guid": "a28cde87-e1cf-49c3-8e45-273025a832b4",
                "language": "sql"
            },
            "outputs": [
                {
                    "output_type": "display_data",
                    "data": {
                        "text/html": "Commands completed successfully."
                    },
                    "metadata": {}
                },
                {
                    "output_type": "display_data",
                    "data": {
                        "text/html": "Total execution time: 00:00:00.004"
                    },
                    "metadata": {}
                }
            ],
            "execution_count": 2
        },
        {
            "cell_type": "code",
            "source": [
                "CREATE TABLE Learners\n",
                "\n",
                "(\n",
                "     id INT PRIMARY KEY,\n",
                "     first_name VARCHAR(50),\n",
                "     last_name VARCHAR(50),\n",
                "     phone VARCHAR(20),\n",
                "     email VARCHAR(100),\n",
                "     address VARCHAR(100),\n",
                "     city VARCHAR(50),\n",
                "     county VARCHAR(50),\n",
                "     postcode VARCHAR(10),\n",
                "     course_id INT,\n",
                "     start_date DATE,\n",
                "     status_id INT\n",
                ");\n",
                "\n",
                "\n",
                "INSERT INTO Learners (id, first_name, last_name, phone, email, address, city, county, postcode, course_id, start_date, status_id)\n",
                "\n",
                "VALUES\n",
                "\n",
                "(1, 'John', 'Smith', '01234567890', 'john.smith@email.com', '123 Main Street', 'London', 'Greater London', 'SW1A 1AA', 101, '2022-01-03', 1),\n",
                "\n",
                "(2, 'Jane', 'Doe', '02345678901', 'jane.doe@email.com', '456 High Street', 'Birmingham', 'West Midlands', 'B1 1AA', 102, '2022-02-07', 2),\n",
                "\n",
                "(3, 'David', 'Jones', '03456789012', 'david.jones@email.com', '789 Park Road', 'Manchester', 'Greater Manchester', 'M1 1AA', 103, '2022-03-14', 1),\n",
                "\n",
                "(4, 'Emma', 'Wilson', '04567890123', 'emma.wilson@email.com', '456 High Street', 'Leeds', 'West Yorkshire', 'LS1 1AA', 104, '2022-04-21', 2),\n",
                "\n",
                "(5, 'James', 'Lee', '05678901234', 'james.lee@email.com', '789 Park Road', 'Liverpool', 'Merseyside', 'L1 1AA', 104, '2022-05-28', 1),\n",
                "\n",
                "(6, 'Olivia', 'Clark', '06789012345', 'olivia.clark@email.com', '123 Main Street', 'Newcastle upon Tyne', 'Tyne and Wear', 'NE1 1AA', 103, '2022-06-04', 2),\n",
                "\n",
                "(7, 'William', 'Taylor', '07890123456', 'william.taylor@email.com', '456 High Street', 'Glasgow', 'Glasgow City', 'G1 1AA', 103, '2022-07-11', 1),\n",
                "\n",
                "(8, 'Sophia', 'Wilson', '08901234567', 'sophia.wilson@email.com', '789 Park Road', 'Edinburgh', 'City of Edinburgh', 'EH1 1AA', 101, '2022-08-18', 2),\n",
                "\n",
                "(9, 'Daniel', 'Brown', '09012345678', 'daniel.brown@email.com', '123 Main Street', 'Belfast', 'County Antrim', 'BT1 1AA', 102, '2022-09-25', 1),\n",
                "\n",
                "(10, 'Megan', 'Scott', '01234567891', 'megan.scott@email.com', '789 Park Road', 'Bristol', 'Bristol', 'BS1 1AA', 101, '2022-10-02', 2);\n",
                "\n",
                "\n",
                "\n",
                "\n",
                "CREATE TABLE Learner_Status (\n",
                "     id INT PRIMARY KEY,\n",
                "     status_name VARCHAR(50)\n",
                "\n",
                ");\n",
                "\n",
                "\n",
                "\n",
                "INSERT INTO Learner_Status (id, status_name)\n",
                "\n",
                "VALUES\n",
                "\n",
                "(1, 'Training'),\n",
                "\n",
                "(2, 'Pre-Employment'),\n",
                "\n",
                "(3, 'Employment'),\n",
                "\n",
                "(4, 'Experienced/In-between Employment');\n",
                "\n",
                "\n",
                ""
            ],
            "metadata": {
                "language": "sql",
                "azdata_cell_guid": "b5916070-cde2-49de-bb82-f46b483b181e"
            },
            "outputs": [
                {
                    "output_type": "display_data",
                    "data": {
                        "text/html": "(10 rows affected)"
                    },
                    "metadata": {}
                },
                {
                    "output_type": "error",
                    "evalue": "Msg 2714, Level 16, State 6, Line 46\nThere is already an object named 'Learner_Status' in the database.",
                    "ename": "",
                    "traceback": []
                },
                {
                    "output_type": "display_data",
                    "data": {
                        "text/html": "Total execution time: 00:00:00.029"
                    },
                    "metadata": {}
                }
            ],
            "execution_count": 31
        },
        {
            "cell_type": "code",
            "source": [
                "CREATE TABLE trainers (\n",
                "    id INT IDENTITY(1,1) PRIMARY KEY,\n",
                "    first_name VARCHAR(255) NOT NULL, \n",
                "    last_name VARCHAR(255) NOT NULL, \n",
                "    phone VARCHAR(255) NOT NULL, \n",
                "    email VARCHAR(255) NOT NULL, \n",
                "    address VARCHAR(255), \n",
                "    city VARCHAR(255), \n",
                "    county VARCHAR(255), \n",
                "    postcode VARCHAR(255), \n",
                "    course_id INT \n",
                ");"
            ],
            "metadata": {
                "language": "sql",
                "azdata_cell_guid": "dcdaecc1-1ed3-4270-bf32-e1fa22851995"
            },
            "outputs": [
                {
                    "output_type": "display_data",
                    "data": {
                        "text/html": "Commands completed successfully."
                    },
                    "metadata": {}
                },
                {
                    "output_type": "display_data",
                    "data": {
                        "text/html": "Total execution time: 00:00:00.022"
                    },
                    "metadata": {}
                }
            ],
            "execution_count": 35
        },
        {
            "cell_type": "code",
            "source": [
                "INSERT INTO trainers (first_name, last_name, phone, email, address, city, county, postcode, course_id)\n",
                "VALUES\n",
                "('John', 'Doe', '0123456789', 'johndoe@email.com', '123 High Street', 'London', 'Greater London', 'SW1A 2AA', 101),\n",
                "('Jane', 'Smith', '0123456789', 'janesmith@email.com', '456 Main Street', 'Manchester', 'Greater Manchester', 'M1 1AB', 102),\n",
                "('Tom', 'Jones', '0123456789', 'tomjones@email.com', '789 High Road', 'Birmingham', 'West Midlands', 'B1 1CD', 103),\n",
                "('Mary', 'Taylor', '0123456789', 'marytaylor@email.com', '1010 Oxford Street', 'Bristol', 'Bristol', 'BS1 1EF', 104),\n",
                "('David', 'Lee', '0123456789', 'davidlee@email.com', '555 Regent Street', 'Leeds', 'West Yorkshire', 'LS1 1GH', 104),\n",
                "('Emma', 'Davis', '0123456789', 'emmadavis@email.com', '1000 George Street', 'Glasgow', 'Glasgow City', 'G1 1IJ', 101);\n",
                ""
            ],
            "metadata": {
                "language": "sql",
                "azdata_cell_guid": "517ae4f6-03f2-4636-a689-ef5258bc99c3"
            },
            "outputs": [
                {
                    "output_type": "display_data",
                    "data": {
                        "text/html": "(6 rows affected)"
                    },
                    "metadata": {}
                },
                {
                    "output_type": "display_data",
                    "data": {
                        "text/html": "Total execution time: 00:00:00.027"
                    },
                    "metadata": {}
                }
            ],
            "execution_count": 36
        },
        {
            "cell_type": "code",
            "source": [
                "CREATE TABLE modules (\n",
                "    id INT IDENTITY(1,1) PRIMARY KEY, \n",
                "    module_name VARCHAR(255) NOT NULL, \n",
                "    description TEXT,\n",
                "    duration_weeks INT\n",
                ");\n",
                ""
            ],
            "metadata": {
                "language": "sql",
                "azdata_cell_guid": "833c39ed-94e3-4795-bf03-c5324463ea81"
            },
            "outputs": [
                {
                    "output_type": "display_data",
                    "data": {
                        "text/html": "Commands completed successfully."
                    },
                    "metadata": {}
                },
                {
                    "output_type": "display_data",
                    "data": {
                        "text/html": "Total execution time: 00:00:00.008"
                    },
                    "metadata": {}
                }
            ],
            "execution_count": 14
        },
        {
            "cell_type": "code",
            "source": [
                "select*from modules;"
            ],
            "metadata": {
                "language": "sql",
                "azdata_cell_guid": "c4b2dfba-5455-4056-9a9d-97c68795e6e3"
            },
            "outputs": [
                {
                    "output_type": "display_data",
                    "data": {
                        "text/html": "(8 rows affected)"
                    },
                    "metadata": {}
                },
                {
                    "output_type": "display_data",
                    "data": {
                        "text/html": "Total execution time: 00:00:00.024"
                    },
                    "metadata": {}
                },
                {
                    "output_type": "execute_result",
                    "execution_count": 17,
                    "data": {
                        "application/vnd.dataresource+json": {
                            "schema": {
                                "fields": [
                                    {
                                        "name": "id"
                                    },
                                    {
                                        "name": "module_name"
                                    },
                                    {
                                        "name": "description"
                                    },
                                    {
                                        "name": "duration_weeks"
                                    }
                                ]
                            },
                            "data": [
                                {
                                    "0": "1",
                                    "1": "Introduction to Cybersecurity",
                                    "2": "This module provides an introduction to the principles and best practices of cybersecurity.",
                                    "3": "1"
                                },
                                {
                                    "0": "2",
                                    "1": "Network Security",
                                    "2": "This module covers topics related to securing computer networks, such as firewalls, intrusion detection and prevention, and virtual private networks.",
                                    "3": "2"
                                },
                                {
                                    "0": "3",
                                    "1": "Database and SQL",
                                    "2": "This module covers the principles and best practices of database and SQL.",
                                    "3": "1"
                                },
                                {
                                    "0": "4",
                                    "1": "Data Integration and ETL",
                                    "2": "This module covers techniques for integrating and transforming data from multiple sources using extract, transform, load (ETL) processes.",
                                    "3": "1"
                                },
                                {
                                    "0": "5",
                                    "1": "Object-Oriented Programming",
                                    "2": "This module provides an introduction to object-oriented programming",
                                    "3": "2"
                                },
                                {
                                    "0": "6",
                                    "1": "Web Application Development with Node.js",
                                    "2": "This module covers the principles and best practices of web application development using the Node.js runtime environment.",
                                    "3": "2"
                                },
                                {
                                    "0": "7",
                                    "1": "Continuous Integration and Deployment",
                                    "2": "This module covers techniques for integrating software development and operations processes using continuous integration and deployment (CI/CD) pipelines.",
                                    "3": "1"
                                },
                                {
                                    "0": "8",
                                    "1": "Infrastructure as Code",
                                    "2": "This module covers the principles and best practices of infrastructure as code for managing and automating IT infrastructure.",
                                    "3": "2"
                                }
                            ]
                        },
                        "text/html": "<table><tr><th>id</th><th>module_name</th><th>description</th><th>duration_weeks</th></tr><tr><td>1</td><td>Introduction to Cybersecurity</td><td>This module provides an introduction to the principles and best practices of cybersecurity.</td><td>1</td></tr><tr><td>2</td><td>Network Security</td><td>This module covers topics related to securing computer networks, such as firewalls, intrusion detection and prevention, and virtual private networks.</td><td>2</td></tr><tr><td>3</td><td>Database and SQL</td><td>This module covers the principles and best practices of database and SQL.</td><td>1</td></tr><tr><td>4</td><td>Data Integration and ETL</td><td>This module covers techniques for integrating and transforming data from multiple sources using extract, transform, load (ETL) processes.</td><td>1</td></tr><tr><td>5</td><td>Object-Oriented Programming</td><td>This module provides an introduction to object-oriented programming</td><td>2</td></tr><tr><td>6</td><td>Web Application Development with Node.js</td><td>This module covers the principles and best practices of web application development using the Node.js runtime environment.</td><td>2</td></tr><tr><td>7</td><td>Continuous Integration and Deployment</td><td>This module covers techniques for integrating software development and operations processes using continuous integration and deployment (CI/CD) pipelines.</td><td>1</td></tr><tr><td>8</td><td>Infrastructure as Code</td><td>This module covers the principles and best practices of infrastructure as code for managing and automating IT infrastructure.</td><td>2</td></tr></table>"
                    },
                    "metadata": {}
                }
            ],
            "execution_count": 17
        },
        {
            "cell_type": "code",
            "source": [
                "CREATE TABLE clients (\n",
                "    id INT IDENTITY(1,1) PRIMARY KEY,\n",
                "    name VARCHAR(255) NOT NULL,\n",
                "    phone VARCHAR(255) NOT NULL, \n",
                "    email VARCHAR(255) NOT NULL, \n",
                "    address VARCHAR(255), \n",
                "    city VARCHAR(255), \n",
                "    county VARCHAR(255), \n",
                "    postcode VARCHAR(255), \n",
                "    learner_id INT NOT NULL\n",
                ");\n",
                ""
            ],
            "metadata": {
                "language": "sql",
                "azdata_cell_guid": "ca22b0fd-5236-413d-bf3c-60b89a45e150"
            },
            "outputs": [
                {
                    "output_type": "display_data",
                    "data": {
                        "text/html": "Commands completed successfully."
                    },
                    "metadata": {}
                },
                {
                    "output_type": "display_data",
                    "data": {
                        "text/html": "Total execution time: 00:00:00.033"
                    },
                    "metadata": {}
                }
            ],
            "execution_count": 18
        },
        {
            "cell_type": "code",
            "source": [
                "INSERT INTO clients (name, phone, email, address, city, county, postcode, learner_id)\n",
                "VALUES\n",
                "('Google UK Ltd', '020 7031 3000', 'contact@google.co.uk', '1-13 St Giles High St', 'London', 'Greater London', 'WC2H 8AG', 1),\n",
                "('Apple UK Ltd', '0800 048 0408', 'uk_business@apple.com', 'Hanover Street', 'London', 'Greater London', 'W1S 1JY', 2),\n",
                "('Microsoft Ltd', '0344 800 2400', 'ukbus@microsoft.com', '2 Kingdom St', 'London', 'Greater London', 'W2 6BD', 3),\n",
                "('IBM UK Ltd', '020 7858 1000', 'info@uk.ibm.com', '76/78 Upper Ground', 'London', 'Greater London', 'SE1 9PZ', 4),\n",
                "('Amazon UK Services Ltd', '0800 279 7234', 'primary@amazon.co.uk', '1 Principal Place', 'London', 'Greater London', 'EC2A 2FA', 5),\n",
                "('Facebook UK Ltd', '020 3014 6000', 'info@fb.com', '10 Brock St', 'London', 'Greater London', 'NW1 3FG', 1),\n",
                "('BT Group Plc', '0800 800 150', 'customer.serv.payphones@bt.com', '81 Newgate St', 'London', 'Greater London', 'EC1A 7AJ', 2),\n",
                "('BT Openreach', '0800 023 2023', 'enquiries@openreach.co.uk', '81 Newgate St', 'London', 'Greater London', 'EC1A 7AJ', 3),\n",
                "('Vodafone UK Ltd', '0333 304 0191', 'ukcustomer.services@vodafone.com', 'The Connection', 'Newbury', 'Berkshire', 'RG14 2FN', 4),\n",
                "('Oracle Corporation UK Ltd', '0800 092 9380', 'uk_oracle_sales@oracle.com', 'One South Place', 'London', 'Greater London', 'EC2M 2RB', 5);\n",
                ""
            ],
            "metadata": {
                "language": "sql",
                "azdata_cell_guid": "def920a7-8fd8-491d-a73b-d19c309fff89"
            },
            "outputs": [
                {
                    "output_type": "display_data",
                    "data": {
                        "text/html": "(10 rows affected)"
                    },
                    "metadata": {}
                },
                {
                    "output_type": "display_data",
                    "data": {
                        "text/html": "Total execution time: 00:00:00.010"
                    },
                    "metadata": {}
                }
            ],
            "execution_count": 19
        },
        {
            "cell_type": "code",
            "source": [
                "INSERT INTO modules (module_name, description, duration_weeks)\n",
                "VALUES\n",
                "('Introduction to Cybersecurity', 'This module provides an introduction to the principles and best practices of cybersecurity.', 1),\n",
                "('Network Security', 'This module covers topics related to securing computer networks, such as firewalls, intrusion detection and prevention, and virtual private networks.', 2),\n",
                "('Database and SQL', 'This module covers the principles and best practices of database and SQL.', 1),\n",
                "('Data Integration and ETL', 'This module covers techniques for integrating and transforming data from multiple sources using extract, transform, load (ETL) processes.', 1),\n",
                "('Object-Oriented Programming', 'This module provides an introduction to object-oriented programming', 2),\n",
                "('Web Application Development with Node.js', 'This module covers the principles and best practices of web application development using the Node.js runtime environment.', 2),\n",
                "('Continuous Integration and Deployment', 'This module covers techniques for integrating software development and operations processes using continuous integration and deployment (CI/CD) pipelines.', 1),\n",
                "('Infrastructure as Code', 'This module covers the principles and best practices of infrastructure as code for managing and automating IT infrastructure.', 2);\n",
                ""
            ],
            "metadata": {
                "language": "sql",
                "azdata_cell_guid": "a11a3c5c-ccdb-4a0c-8467-80db7644d428"
            },
            "outputs": [
                {
                    "output_type": "display_data",
                    "data": {
                        "text/html": "(8 rows affected)"
                    },
                    "metadata": {}
                },
                {
                    "output_type": "display_data",
                    "data": {
                        "text/html": "Total execution time: 00:00:00.015"
                    },
                    "metadata": {}
                }
            ],
            "execution_count": 15
        },
        {
            "cell_type": "code",
            "source": [
                "ALTER TABLE clients\n",
                "ADD CONSTRAINT FK_clients_learners\n",
                "FOREIGN KEY (learner_id) REFERENCES Learners(id);\n",
                ""
            ],
            "metadata": {
                "azdata_cell_guid": "9394ccc3-0dcb-44fb-8ce7-69d288b6167a",
                "language": "sql",
                "tags": []
            },
            "outputs": [
                {
                    "output_type": "display_data",
                    "data": {
                        "text/html": "Commands completed successfully."
                    },
                    "metadata": {}
                },
                {
                    "output_type": "display_data",
                    "data": {
                        "text/html": "Total execution time: 00:00:00.016"
                    },
                    "metadata": {}
                }
            ],
            "execution_count": 37
        },
        {
            "cell_type": "code",
            "source": [
                "--DROP TABLE Courses;\n",
                "CREATE TABLE Courses (\n",
                "  id INT PRIMARY KEY,\n",
                "  course_name VARCHAR(50) NOT NULL,\n",
                "  module_id INT NOT NULL\n",
                ");\n",
                "\n",
                "\n",
                "INSERT INTO Courses(id, course_name, module_id)\n",
                "\n",
                "VALUES\n",
                "\n",
                "(101, 'Software development', 6),\n",
                "\n",
                "(102, 'Cyber Security', 1),\n",
                "\n",
                "(103, 'DevOps', 7),\n",
                "\n",
                "(104, 'Data', 3);\n",
                ""
            ],
            "metadata": {
                "language": "sql",
                "azdata_cell_guid": "23fe1fa1-cba2-4af2-bb7d-0ab2a31b9e1a"
            },
            "outputs": [
                {
                    "output_type": "display_data",
                    "data": {
                        "text/html": "(4 rows affected)"
                    },
                    "metadata": {}
                },
                {
                    "output_type": "display_data",
                    "data": {
                        "text/html": "Total execution time: 00:00:00.027"
                    },
                    "metadata": {}
                }
            ],
            "execution_count": 29
        },
        {
            "cell_type": "code",
            "source": [
                "ALTER TABLE trainers\n",
                "ADD CONSTRAINT FK_trainers_Courses\n",
                "FOREIGN KEY (course_id) REFERENCES Courses(id);\n",
                ""
            ],
            "metadata": {
                "language": "sql",
                "azdata_cell_guid": "402ce0ad-ab66-4506-aa73-01cea36afe5e"
            },
            "outputs": [
                {
                    "output_type": "error",
                    "evalue": "Msg 2714, Level 16, State 5, Line 1\nThere is already an object named 'FK_trainers_Courses' in the database.",
                    "ename": "",
                    "traceback": []
                },
                {
                    "output_type": "error",
                    "evalue": "Msg 1750, Level 16, State 1, Line 1\nCould not create constraint or index. See previous errors.",
                    "ename": "",
                    "traceback": []
                },
                {
                    "output_type": "display_data",
                    "data": {
                        "text/html": "Total execution time: 00:00:00.005"
                    },
                    "metadata": {}
                }
            ],
            "execution_count": 34
        },
        {
            "cell_type": "code",
            "source": [
                "ALTER TABLE Learners\n",
                "ADD CONSTRAINT FK_Learners_Learners_status\n",
                "FOREIGN KEY (status_id) REFERENCES Learner_status(id);"
            ],
            "metadata": {
                "language": "sql",
                "azdata_cell_guid": "f98bbdb9-34eb-4ee9-af15-b9db0555f8fa",
                "tags": []
            },
            "outputs": [
                {
                    "output_type": "display_data",
                    "data": {
                        "text/html": "Commands completed successfully."
                    },
                    "metadata": {}
                },
                {
                    "output_type": "display_data",
                    "data": {
                        "text/html": "Total execution time: 00:00:00.017"
                    },
                    "metadata": {}
                }
            ],
            "execution_count": 35
        },
        {
            "cell_type": "code",
            "source": [
                "ALTER TABLE Learners\n",
                "ADD CONSTRAINT FK_Learners_Courses\n",
                "FOREIGN KEY (course_id)\n",
                "REFERENCES Courses(id);"
            ],
            "metadata": {
                "language": "sql",
                "azdata_cell_guid": "633d621c-d8f0-49f9-868a-735814b9de28"
            },
            "outputs": [
                {
                    "output_type": "display_data",
                    "data": {
                        "text/html": "Commands completed successfully."
                    },
                    "metadata": {}
                },
                {
                    "output_type": "display_data",
                    "data": {
                        "text/html": "Total execution time: 00:00:00.012"
                    },
                    "metadata": {}
                }
            ],
            "execution_count": 36
        },
        {
            "cell_type": "code",
            "source": [
                "ALTER TABLE Courses\n",
                "ADD CONSTRAINT FK_Courses_modules\n",
                "FOREIGN KEY (module_id) REFERENCES modules(id)"
            ],
            "metadata": {
                "language": "sql",
                "azdata_cell_guid": "3244ae7c-be8d-49c4-84d5-4b57a6e42c25"
            },
            "outputs": [
                {
                    "output_type": "display_data",
                    "data": {
                        "text/html": "Commands completed successfully."
                    },
                    "metadata": {}
                },
                {
                    "output_type": "display_data",
                    "data": {
                        "text/html": "Total execution time: 00:00:00.031"
                    },
                    "metadata": {}
                }
            ],
            "execution_count": 38
        }
    ]
}